{
  "nbformat": 4,
  "nbformat_minor": 0,
  "metadata": {
    "colab": {
      "provenance": [],
      "authorship_tag": "ABX9TyNBl+/WsmEyZUVtYbq6buLk",
      "include_colab_link": true
    },
    "kernelspec": {
      "name": "python3",
      "display_name": "Python 3"
    },
    "language_info": {
      "name": "python"
    }
  },
  "cells": [
    {
      "cell_type": "markdown",
      "metadata": {
        "id": "view-in-github",
        "colab_type": "text"
      },
      "source": [
        "<a href=\"https://colab.research.google.com/github/cruz-ana/Caderno_de_exercicios_Luiza_Code-Python/blob/main/Luiza_code_%F0%9F%92%99_Python_I_Lista_de_exerc%C3%ADcios_de_fixa%C3%A7%C3%A3o.ipynb\" target=\"_parent\"><img src=\"https://colab.research.google.com/assets/colab-badge.svg\" alt=\"Open In Colab\"/></a>"
      ]
    },
    {
      "cell_type": "markdown",
      "source": [
        "**1)** O Python trabalha tipos de valores. Com os valores abaixo, dê o nome de seus tipos:\n",
        "\n",
        "a. 1 - Int\n",
        "\n",
        "b. 12.6 - Float\n",
        "\n",
        "c. True - Bol\n",
        "\n",
        "d. False - Bol\n",
        "\n",
        "e. -543 - Int\n",
        "\n",
        "f. -5.78 - Float\n",
        "\n",
        "g. “copo” - Str\n",
        "\n",
        "h. ‘Belo dia’ - Str\n",
        "\n",
        "\n",
        "\n"
      ],
      "metadata": {
        "id": "bhG84E5tcLwf"
      }
    },
    {
      "cell_type": "markdown",
      "source": [],
      "metadata": {
        "id": "gZVPk_coc_Sl"
      }
    },
    {
      "cell_type": "markdown",
      "source": [
        "**2)** Digite cada linha abaixo no shell do Python e informe quais estão corretos e quais\n",
        "apresentam erro:\n",
        "\n",
        "❌ 1a\n",
        "\n",
        "❌ a1\n",
        "\n",
        "✅ 1.\n",
        "\n",
        "✅ .2\n",
        "\n",
        "✅ -.3\n",
        "\n",
        "✅ 'agua\"limpa'\n",
        "\n",
        "❌ \"agua\"\"\n",
        "\n",
        "\"\"\"teste 1 2 3\"\"\""
      ],
      "metadata": {
        "id": "dljXAn70cwx-"
      }
    },
    {
      "cell_type": "code",
      "source": [
        "1a"
      ],
      "metadata": {
        "colab": {
          "base_uri": "https://localhost:8080/",
          "height": 130
        },
        "id": "Q-qt-iiadAvF",
        "outputId": "1020f1c9-76a3-4576-b805-1f04345988a1"
      },
      "execution_count": null,
      "outputs": [
        {
          "output_type": "error",
          "ename": "SyntaxError",
          "evalue": "ignored",
          "traceback": [
            "\u001b[0;36m  File \u001b[0;32m\"<ipython-input-2-3051ded84a5c>\"\u001b[0;36m, line \u001b[0;32m1\u001b[0m\n\u001b[0;31m    1a\u001b[0m\n\u001b[0m     ^\u001b[0m\n\u001b[0;31mSyntaxError\u001b[0m\u001b[0;31m:\u001b[0m invalid syntax\n"
          ]
        }
      ]
    },
    {
      "cell_type": "code",
      "source": [
        "a1"
      ],
      "metadata": {
        "colab": {
          "base_uri": "https://localhost:8080/",
          "height": 165
        },
        "id": "O4AbNeMsdD6n",
        "outputId": "31f53bf3-479a-4d81-a17a-9ad4ae05a93c"
      },
      "execution_count": null,
      "outputs": [
        {
          "output_type": "error",
          "ename": "NameError",
          "evalue": "ignored",
          "traceback": [
            "\u001b[0;31m---------------------------------------------------------------------------\u001b[0m",
            "\u001b[0;31mNameError\u001b[0m                                 Traceback (most recent call last)",
            "\u001b[0;32m<ipython-input-3-e6d9715dfa5f>\u001b[0m in \u001b[0;36m<module>\u001b[0;34m\u001b[0m\n\u001b[0;32m----> 1\u001b[0;31m \u001b[0ma1\u001b[0m\u001b[0;34m\u001b[0m\u001b[0;34m\u001b[0m\u001b[0m\n\u001b[0m",
            "\u001b[0;31mNameError\u001b[0m: name 'a1' is not defined"
          ]
        }
      ]
    },
    {
      "cell_type": "code",
      "source": [
        "1."
      ],
      "metadata": {
        "colab": {
          "base_uri": "https://localhost:8080/"
        },
        "id": "2LQHa3kjdE01",
        "outputId": "a3bebcc0-4133-470e-cb22-1206fc839c7c"
      },
      "execution_count": null,
      "outputs": [
        {
          "output_type": "execute_result",
          "data": {
            "text/plain": [
              "1.0"
            ]
          },
          "metadata": {},
          "execution_count": 6
        }
      ]
    },
    {
      "cell_type": "code",
      "source": [
        ".2"
      ],
      "metadata": {
        "colab": {
          "base_uri": "https://localhost:8080/"
        },
        "id": "QD86naHIdGXQ",
        "outputId": "0598faa5-59d9-4f9a-bd6a-aa7aae06df80"
      },
      "execution_count": null,
      "outputs": [
        {
          "output_type": "execute_result",
          "data": {
            "text/plain": [
              "0.2"
            ]
          },
          "metadata": {},
          "execution_count": 5
        }
      ]
    },
    {
      "cell_type": "code",
      "source": [
        "-.3"
      ],
      "metadata": {
        "colab": {
          "base_uri": "https://localhost:8080/"
        },
        "id": "gs82F2pAdIFH",
        "outputId": "a9096ebb-7a2c-46ee-bdb5-cf1bb903b46d"
      },
      "execution_count": null,
      "outputs": [
        {
          "output_type": "execute_result",
          "data": {
            "text/plain": [
              "-0.3"
            ]
          },
          "metadata": {},
          "execution_count": 7
        }
      ]
    },
    {
      "cell_type": "code",
      "source": [
        "'agua\"limpa'"
      ],
      "metadata": {
        "colab": {
          "base_uri": "https://localhost:8080/",
          "height": 36
        },
        "id": "bvDTGKYsdJjf",
        "outputId": "54388165-fa40-4885-b3f5-3d299518054f"
      },
      "execution_count": null,
      "outputs": [
        {
          "output_type": "execute_result",
          "data": {
            "text/plain": [
              "'agua\"limpa'"
            ],
            "application/vnd.google.colaboratory.intrinsic+json": {
              "type": "string"
            }
          },
          "metadata": {},
          "execution_count": 8
        }
      ]
    },
    {
      "cell_type": "code",
      "source": [
        "\"agua\"\""
      ],
      "metadata": {
        "colab": {
          "base_uri": "https://localhost:8080/",
          "height": 130
        },
        "id": "q1MzA4rBdSkv",
        "outputId": "6ef7523c-b070-492c-9543-f80d8b76431d"
      },
      "execution_count": null,
      "outputs": [
        {
          "output_type": "error",
          "ename": "SyntaxError",
          "evalue": "ignored",
          "traceback": [
            "\u001b[0;36m  File \u001b[0;32m\"<ipython-input-9-bada2bc56c67>\"\u001b[0;36m, line \u001b[0;32m1\u001b[0m\n\u001b[0;31m    \"agua\"\"\u001b[0m\n\u001b[0m           ^\u001b[0m\n\u001b[0;31mSyntaxError\u001b[0m\u001b[0;31m:\u001b[0m EOL while scanning string literal\n"
          ]
        }
      ]
    },
    {
      "cell_type": "code",
      "source": [
        "\"\"\"teste 1 2 3\"\"\""
      ],
      "metadata": {
        "colab": {
          "base_uri": "https://localhost:8080/",
          "height": 36
        },
        "id": "-yNhcJkLdVDe",
        "outputId": "d778ceb4-e86e-4564-81b5-66d1517d1a4f"
      },
      "execution_count": null,
      "outputs": [
        {
          "output_type": "execute_result",
          "data": {
            "text/plain": [
              "'teste 1 2 3'"
            ],
            "application/vnd.google.colaboratory.intrinsic+json": {
              "type": "string"
            }
          },
          "metadata": {},
          "execution_count": 10
        }
      ]
    },
    {
      "cell_type": "markdown",
      "source": [
        "**3)** Determine qual é o resultado dos seguintes cálculos no Python:"
      ],
      "metadata": {
        "id": "NGLnt-uPeclO"
      }
    },
    {
      "cell_type": "code",
      "source": [
        "#Operadores matemáticos\n",
        "\n",
        "a = (10+3)\n",
        "b = (10-3)\n",
        "c = (10*3)\n",
        "d = (10/3)\n",
        "e = (10/3.0)\n",
        "f = (13/3)\n",
        "g = (13/3.0)\n",
        "h = (13//3.0)\n",
        "\n",
        "\n",
        "print(\"Os resultados das operaçoes acima são\",a,b,c,d,e,f,g,h)\n",
        "\n"
      ],
      "metadata": {
        "colab": {
          "base_uri": "https://localhost:8080/"
        },
        "id": "5JyL9_xqeeq9",
        "outputId": "a9edab1b-883f-4c52-d4d3-775b948d9cc4"
      },
      "execution_count": null,
      "outputs": [
        {
          "output_type": "stream",
          "name": "stdout",
          "text": [
            "Os resultados das operaçoes acima são 13 7 30 3.3333333333333335 3.3333333333333335 4.333333333333333 4.333333333333333 4.0\n"
          ]
        }
      ]
    },
    {
      "cell_type": "code",
      "source": [
        "#Ordem dos operadores\n",
        "a = 5 + 30 * 20\n",
        "b = (5 + 30) * 20\n",
        "c = ((5 + 30) * 20) / 10\n",
        "d = 5 + 30 * 20 / 10\n",
        "\n",
        "print(\"\"\"os resultados das operações a cima são:\n",
        "a = {}\n",
        "b = {}\n",
        "c = {}\n",
        "d = {}\"\"\".format(a,b,c,d))"
      ],
      "metadata": {
        "colab": {
          "base_uri": "https://localhost:8080/"
        },
        "id": "0hUphmdRkfa5",
        "outputId": "53a4fe21-d97b-41ac-e6b8-9811b3170aa1"
      },
      "execution_count": null,
      "outputs": [
        {
          "output_type": "stream",
          "name": "stdout",
          "text": [
            "os resultados das operações a cima são:\n",
            "a = 605\n",
            "b = 700\n",
            "c = 70.0\n",
            "d = 65.0\n"
          ]
        }
      ]
    },
    {
      "cell_type": "code",
      "source": [
        "# Operadores comparação\n",
        "\n",
        "a = 2 < 3\n",
        "b = 9 > 8\n",
        "c = 1 == 1\n",
        "d = 1 != 2\n",
        "e = 1 != 1\n",
        "f = 4 <= 4\n",
        "g = 5 >= 6\n",
        "h = 1 < 2 < 3\n",
        "i = 1 < 2 < 2\n",
        "j = 1 + 2 < 25 / 5\n",
        "\n",
        "print(\" Os resultados dessas oferações são:\",a,b,c,d,e,f,g,h,i,j)"
      ],
      "metadata": {
        "colab": {
          "base_uri": "https://localhost:8080/"
        },
        "id": "_Qy4STcNlRDn",
        "outputId": "b3754870-2a47-49ac-eaed-7e72b1d9b746"
      },
      "execution_count": null,
      "outputs": [
        {
          "output_type": "stream",
          "name": "stdout",
          "text": [
            " Os resultados dessas oferações são: True True True True False True False True False True\n"
          ]
        }
      ]
    },
    {
      "cell_type": "code",
      "source": [
        "# Mais operadores matemáticos\n",
        "a = 2 ** 4\n",
        "b = 26 % 5\n",
        "\n",
        "print(\"\"\" Os resultados dessas oferações são:\n",
        "a = {}\n",
        "b = {}\"\"\".format( a,b))"
      ],
      "metadata": {
        "colab": {
          "base_uri": "https://localhost:8080/"
        },
        "id": "iBhjld7VnLhd",
        "outputId": "83abd1c7-dba8-49f6-ed01-749afd11cb3f"
      },
      "execution_count": null,
      "outputs": [
        {
          "output_type": "stream",
          "name": "stdout",
          "text": [
            " Os resultados dessas oferações são:\n",
            "a = 16\n",
            "b = 1\n"
          ]
        }
      ]
    },
    {
      "cell_type": "code",
      "source": [
        "# Operadores lógicos\n",
        "a = not True\n",
        "b = not False\n",
        "c = True and True\n",
        "d = True and False\n",
        "e = False and True\n",
        "f = False and False\n",
        "g = True or True\n",
        "h = True or False\n",
        "i = False or True\n",
        "j = False or False\n",
        "k = True or True and False\n",
        "l = (True or True) and False\n",
        "m = not True or False\n",
        "n = not (True or False)\n",
        "o = not (True and False) and (True or False)\n",
        "p = 1 > 2 and 3 > 4\n",
        "q = 1 > 2 and 3 < 4\n",
        "r = 1 < 2 and 3 < 4\n",
        "s = 1 + 2 and 3 + 4\n",
        "t = 1 + 2 or 3 + 4\n",
        "u =True and 3 > 5\n",
        "v = False and 3 >5\n",
        "\n",
        "print(a,b,c,d,e,f,g,h,i,j,k,l,m,n,o,p,q,r,s,t,u,v)\n"
      ],
      "metadata": {
        "colab": {
          "base_uri": "https://localhost:8080/"
        },
        "id": "sjlWsOImneQd",
        "outputId": "0d776eb3-55d9-45a6-9a67-616ec347551b"
      },
      "execution_count": null,
      "outputs": [
        {
          "output_type": "stream",
          "name": "stdout",
          "text": [
            "False True True False False False True True True False True False False False True False False True 7 3 False False\n"
          ]
        }
      ]
    },
    {
      "cell_type": "markdown",
      "source": [
        "4) Qual será o valor final de x?\n",
        "\n",
        "x = 10\n",
        "\n",
        "x = x + 10\n",
        "\n",
        "x = 100 - x"
      ],
      "metadata": {
        "id": "AwT1T4Iay3P9"
      }
    },
    {
      "cell_type": "code",
      "source": [
        "x = 10\n",
        "x = x + 10\n",
        "x = 100 - x\n",
        "print(x)"
      ],
      "metadata": {
        "colab": {
          "base_uri": "https://localhost:8080/"
        },
        "id": "tdoBPlNVy9We",
        "outputId": "05990eaa-e290-415f-e75d-d884fd3067b3"
      },
      "execution_count": null,
      "outputs": [
        {
          "output_type": "stream",
          "name": "stdout",
          "text": [
            "80\n"
          ]
        }
      ]
    },
    {
      "cell_type": "markdown",
      "source": [
        "**5)** Resolva estes problemas em Python, guardando os valores e seus resultados em\n",
        "variáveis diferentes.\n"
      ],
      "metadata": {
        "id": "KM2hZNfjRRWR"
      }
    },
    {
      "cell_type": "markdown",
      "source": [
        "a. Calcule a área de um quadrado cujo lado seja 2 cm\n"
      ],
      "metadata": {
        "id": "cWamV573ZSlh"
      }
    },
    {
      "cell_type": "code",
      "source": [
        "\n",
        "lado = 2\n",
        "area = 2** lado\n",
        "\n",
        "\n",
        "print(\"Resposta: Um quadrado cujo lado mede 2 cm tem como área {} cm²\".format(area))"
      ],
      "metadata": {
        "colab": {
          "base_uri": "https://localhost:8080/"
        },
        "id": "jNFaRHkARaNR",
        "outputId": "b9f72965-4b7b-41d8-82a3-298c5db0481b"
      },
      "execution_count": 5,
      "outputs": [
        {
          "output_type": "stream",
          "name": "stdout",
          "text": [
            "Resposta: Um quadrado cujo lado mede 2 cm tem como área 4 cm²\n"
          ]
        }
      ]
    },
    {
      "cell_type": "markdown",
      "source": [
        "b. Uma mala custa R$120,00. Esta recebeu 5% de desconto. Quanto você irá pagar por ela.\n"
      ],
      "metadata": {
        "id": "R1CcQhocZPWj"
      }
    },
    {
      "cell_type": "code",
      "source": [
        "\n",
        "preço_mala = 120\n",
        "desconto = 0.05 * preço_mala\n",
        "preço_descontado = preço_mala - desconto\n",
        "\n",
        "print(\"Resposta: Como o desconto de 5% equivale a {}, o novo valor preço da mala será {}\".format(desconto,preço_descontado))"
      ],
      "metadata": {
        "colab": {
          "base_uri": "https://localhost:8080/"
        },
        "id": "Kq7iMo7IScXY",
        "outputId": "2cc44f0c-2a09-4c18-8eda-ceae72eb10b7"
      },
      "execution_count": 4,
      "outputs": [
        {
          "output_type": "stream",
          "name": "stdout",
          "text": [
            "Resposta: Como o desconto de 5% equivale a 6.0, o novo valor preço da mala será 114.0\n"
          ]
        }
      ]
    },
    {
      "cell_type": "markdown",
      "source": [
        "c. Um carro está viajando a uma velocidade média de 100 Km/h, o trecho de viagem será 200 Km. Quantas horas irá demorar a viagem\n"
      ],
      "metadata": {
        "id": "L47TQP_mZLqT"
      }
    },
    {
      "cell_type": "code",
      "source": [
        "\n",
        "velocidade_media =100\n",
        "espaço = 200\n",
        "tempo = (velocidade_media / espaço)\n",
        "\n",
        "print(\"Resposta: Supondo que o carro se mova num movimento uniforme, podemos sumir que o tempo gasto seja de {} minutos.\".format(tempo*60))\n"
      ],
      "metadata": {
        "colab": {
          "base_uri": "https://localhost:8080/"
        },
        "id": "W_kdqOeGTzzr",
        "outputId": "6421deb5-4e69-4af3-dbf1-b2638c3574f7"
      },
      "execution_count": 19,
      "outputs": [
        {
          "output_type": "stream",
          "name": "stdout",
          "text": [
            "Resposta: Supondo que o carro se mova num movimento uniforme, podemos sumir que o tempo gasto seja de 30.0 minutos.\n"
          ]
        }
      ]
    },
    {
      "cell_type": "markdown",
      "source": [
        "d. João tem 2 pirulitos, Maria 3 pirulitos e Sofia 1 pirulito. Calcule o total de pirulitos e sua média."
      ],
      "metadata": {
        "id": "NKgCWDn9ZE6p"
      }
    },
    {
      "cell_type": "code",
      "source": [
        "\n",
        "\n",
        "joao = 2\n",
        "maria = 3\n",
        "sofia = 1\n",
        "\n",
        "soma = joao + maria + sofia\n",
        "media = soma /3\n",
        "\n",
        "print(\"no total o grupo possui {} pirulitos se fosse realizada uma media cada um ficaria com {} pirulitos\".format(soma,media))"
      ],
      "metadata": {
        "colab": {
          "base_uri": "https://localhost:8080/"
        },
        "id": "BC4rVoIzXQ0Y",
        "outputId": "235e429f-552a-4506-e5a0-af73faaf365d"
      },
      "execution_count": 21,
      "outputs": [
        {
          "output_type": "stream",
          "name": "stdout",
          "text": [
            "no total o grupo possui 6 pirulitos se fosse realizada uma media cada um ficaria com 2.0 pirulitos\n"
          ]
        }
      ]
    },
    {
      "cell_type": "markdown",
      "source": [
        "e. Davi tem 13 anos e sua irmã tem 7 anos. Guarde na variável eh_mais_velho a\n",
        "verificação se a idade de Davi é maior que a idade de sua irmã.\n"
      ],
      "metadata": {
        "id": "UwvwFgWLcgPB"
      }
    },
    {
      "cell_type": "code",
      "source": [
        "davi = 13\n",
        "irma = 7\n",
        "\n",
        "eh_mais_velho = davi > irma\n",
        "\n",
        "print(\"Davi é mais velho que sua irmã? resposta: {}\".format(eh_mais_velho))"
      ],
      "metadata": {
        "colab": {
          "base_uri": "https://localhost:8080/"
        },
        "id": "bhVQtWsYckdc",
        "outputId": "af02c341-817f-4dbf-cd18-69157ca27177"
      },
      "execution_count": 23,
      "outputs": [
        {
          "output_type": "stream",
          "name": "stdout",
          "text": [
            "Davi é mais velho que sua irmã? resposta: True\n"
          ]
        }
      ]
    },
    {
      "cell_type": "markdown",
      "source": [
        "**6)** Qual será o valor de z? Qual seria outra forma de escrever este trecho de código?"
      ],
      "metadata": {
        "id": "4Meg_pdBdcCR"
      }
    },
    {
      "cell_type": "code",
      "source": [
        "z = 3\n",
        "z += 2\n",
        "z *= 6\n",
        "z /= 5\n",
        "\n",
        "print(z)"
      ],
      "metadata": {
        "colab": {
          "base_uri": "https://localhost:8080/"
        },
        "id": "7exGMYLUdE-w",
        "outputId": "bbea0a80-d196-47c4-9ee9-132618ae2627"
      },
      "execution_count": 27,
      "outputs": [
        {
          "output_type": "stream",
          "name": "stdout",
          "text": [
            "6.0\n"
          ]
        }
      ]
    },
    {
      "cell_type": "code",
      "source": [
        "# outra forma de escrever este trecho de código\n",
        "z = (3 + 2)*6/5\n",
        "\n",
        "print(z)"
      ],
      "metadata": {
        "colab": {
          "base_uri": "https://localhost:8080/"
        },
        "id": "7IYdjHMSd-Wi",
        "outputId": "fc3fa35f-f438-4062-b9bc-08b0f639cd35"
      },
      "execution_count": 34,
      "outputs": [
        {
          "output_type": "stream",
          "name": "stdout",
          "text": [
            "6.0\n"
          ]
        }
      ]
    },
    {
      "cell_type": "markdown",
      "source": [
        "7) Considere as seguintes variáveis:\n",
        "\n",
        "Qual será o valor de resposta em cada linha:"
      ],
      "metadata": {
        "id": "waKelvPDe0e4"
      }
    },
    {
      "cell_type": "code",
      "source": [
        "ovo = 3.4\n",
        "caju = 12.4\n",
        "\n",
        "# resposta = ovo if 1 > 2 else caju\n",
        "if 1>2 :\n",
        "  print(ovo)\n",
        "else:\n",
        "  print(caju)\n",
        "\n",
        "# resposta = ovo if ovo > caju else caju\n",
        "if ovo > caju:\n",
        "  print(ovo)\n",
        "else:\n",
        "  print(caju)\n",
        "\n",
        "#resposta = ovo if ovo < caju else caju\n",
        "if ovo < caju:\n",
        "  print(ovo)\n",
        "else:\n",
        "  print(caju)\n",
        "\n",
        "#resposta = 100 if ovo + caju > 15 else 200\n",
        "if ovo + caju > 15:\n",
        "  print(100)\n",
        "else:\n",
        "  print(200)\n",
        "#resposta = 100 if ovo == 3 else 0\n",
        "if ovo == 3:\n",
        "  print(100)\n",
        "else:\n",
        "  print(0)\n"
      ],
      "metadata": {
        "colab": {
          "base_uri": "https://localhost:8080/"
        },
        "id": "p_lZRm5FfDYR",
        "outputId": "e4e7b383-48b3-4e36-f336-3606377a1203"
      },
      "execution_count": 37,
      "outputs": [
        {
          "output_type": "stream",
          "name": "stdout",
          "text": [
            "12.4\n",
            "12.4\n",
            "3.4\n",
            "100\n",
            "0\n"
          ]
        }
      ]
    },
    {
      "cell_type": "markdown",
      "source": [
        "**8)** Qual é o resultado deste problema? Qual é o valor final da variável fim?"
      ],
      "metadata": {
        "id": "ESuTS9OGhC5t"
      }
    },
    {
      "cell_type": "code",
      "source": [
        "ab = 10\n",
        "Ab = 20\n",
        "aB = 30\n",
        "AB = ab + Ab - aB\n",
        "fim = AB + 1\n",
        "\n",
        "print(\"Resposta: O valor final da variável fim é {}\".format(fim))"
      ],
      "metadata": {
        "colab": {
          "base_uri": "https://localhost:8080/"
        },
        "id": "cK7IJseufjl5",
        "outputId": "4d5b7f19-793a-403f-968b-8d8770fd5c5e"
      },
      "execution_count": 40,
      "outputs": [
        {
          "output_type": "stream",
          "name": "stdout",
          "text": [
            "Resposta: O valor final da variável fim é 1\n"
          ]
        }
      ]
    },
    {
      "cell_type": "markdown",
      "source": [
        "**9)** Qual é o resultado de cada linha de comando do Python? Siga a ordem dos comandos"
      ],
      "metadata": {
        "id": "bQ_gRnFXhma-"
      }
    },
    {
      "cell_type": "code",
      "source": [
        "valor = input(\"Informe um valor: \")\n",
        "print(\"Valor informado: \", valor)\n",
        "tipo = type(valor)\n",
        "valor_str = str (valor)\n",
        "valor_int = int (valor)\n",
        "valor_float = float(valor)\n",
        "sao_iguais = valor_float == valor_int\n",
        "print(\"Um float é igual a um int?\", sao_iguais)"
      ],
      "metadata": {
        "colab": {
          "base_uri": "https://localhost:8080/"
        },
        "id": "DsBbmlQIhqb6",
        "outputId": "ef3e535e-b6f5-453f-d23b-d507fbdb37fd"
      },
      "execution_count": 44,
      "outputs": [
        {
          "output_type": "stream",
          "name": "stdout",
          "text": [
            "Informe um valor: 7\n",
            "Valor informado:  7\n",
            "Um float é igual a um int? True\n"
          ]
        }
      ]
    },
    {
      "cell_type": "markdown",
      "source": [
        "10) Crie o seguinte programa Python no arquivo lista03_02.py: Colete o nome da\n",
        "pessoa, a cidade de nascimento dela, e o ano em que ela nasceu. Depois você irá mostrar\n",
        "os dados coletados em linhas diferentes. E também, deverá informar quantos anos a\n",
        "pessoa terá no ano 2030"
      ],
      "metadata": {
        "id": "b3IRluF_j_yS"
      }
    }
  ]
}